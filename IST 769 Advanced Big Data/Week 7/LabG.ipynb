{
 "cells": [
  {
   "cell_type": "code",
   "execution_count": 2,
   "id": "4de490fc-ec30-4f2d-9c70-d380aa7dce16",
   "metadata": {},
   "outputs": [],
   "source": [
    "import pyspark\n",
    "from pyspark.sql import SparkSession\n",
    "from pyspark.sql.functions import *\n",
    "from pyspark.sql.types import *\n",
    "# CASSANDRA CONFIGURATION\n",
    "cassandra_host = \"cassandra\"\n",
    "spark = SparkSession \\\n",
    "    .builder \\\n",
    "    .master(\"local\") \\\n",
    "    .appName('jupyter-pyspark') \\\n",
    "      .config(\"spark.cassandra.connection.host\", cassandra_host) \\\n",
    "      .config(\"spark.jars.packages\",\"com.datastax.spark:spark-cassandra-connector-assembly_2.12:3.1.0\")\\\n",
    "    .getOrCreate()\n",
    "sc = spark.sparkContext\n",
    "sc.setLogLevel(\"ERROR\")"
   ]
  },
  {
   "cell_type": "code",
   "execution_count": 4,
   "id": "059113ef-2f3e-448b-881a-98383b3c9ca3",
   "metadata": {},
   "outputs": [
    {
     "name": "stdout",
     "output_type": "stream",
     "text": [
      "root\n",
      " |-- 2020census: long (nullable = true)\n",
      " |-- city: string (nullable = true)\n",
      " |-- condition: string (nullable = true)\n",
      " |-- date: string (nullable = true)\n",
      " |-- description: string (nullable = true)\n",
      " |-- dew_point: double (nullable = true)\n",
      " |-- latitude: double (nullable = true)\n",
      " |-- longitude: double (nullable = true)\n",
      " |-- moon_phase: double (nullable = true)\n",
      " |-- pct_clouds: long (nullable = true)\n",
      " |-- pct_humidity: long (nullable = true)\n",
      " |-- pressure: long (nullable = true)\n",
      " |-- rainfall: double (nullable = true)\n",
      " |-- snowfall: double (nullable = true)\n",
      " |-- state: string (nullable = true)\n",
      " |-- temperature.day: double (nullable = true)\n",
      " |-- temperature.eve: double (nullable = true)\n",
      " |-- temperature.max: double (nullable = true)\n",
      " |-- temperature.min: double (nullable = true)\n",
      " |-- temperature.morn: double (nullable = true)\n",
      " |-- temperature.night: double (nullable = true)\n",
      " |-- timezone: string (nullable = true)\n",
      " |-- uv_index: double (nullable = true)\n",
      " |-- wind.direction_deg: long (nullable = true)\n",
      " |-- wind.gust: double (nullable = true)\n",
      " |-- wind.speed: double (nullable = true)\n",
      "\n"
     ]
    },
    {
     "name": "stderr",
     "output_type": "stream",
     "text": [
      "                                                                                \r"
     ]
    }
   ],
   "source": [
    "w_df = spark.read.json(\"file:////home/jovyan/datasets/weather/weather.json\")\n",
    "w_df.printSchema()"
   ]
  },
  {
   "cell_type": "code",
   "execution_count": 5,
   "id": "dc04ed16-da1b-477c-856e-19bbf27b3b90",
   "metadata": {},
   "outputs": [
    {
     "name": "stdout",
     "output_type": "stream",
     "text": [
      "1600\n"
     ]
    }
   ],
   "source": [
    "print(w_df.count())"
   ]
  },
  {
   "cell_type": "code",
   "execution_count": 6,
   "id": "935ba868-3f65-489f-960e-92cbb167c6b2",
   "metadata": {},
   "outputs": [
    {
     "name": "stderr",
     "output_type": "stream",
     "text": [
      "[Stage 4:============================================>          (161 + 1) / 200]\r"
     ]
    },
    {
     "name": "stdout",
     "output_type": "stream",
     "text": [
      "8\n"
     ]
    },
    {
     "name": "stderr",
     "output_type": "stream",
     "text": [
      "                                                                                \r"
     ]
    }
   ],
   "source": [
    "print(w_df.select(\"date\").distinct().count())"
   ]
  },
  {
   "cell_type": "code",
   "execution_count": 7,
   "id": "6f6724b6-ad06-4e36-b42f-0c2835610d34",
   "metadata": {},
   "outputs": [
    {
     "name": "stderr",
     "output_type": "stream",
     "text": [
      "[Stage 7:======================================================>(197 + 1) / 200]\r"
     ]
    },
    {
     "name": "stdout",
     "output_type": "stream",
     "text": [
      "200\n"
     ]
    },
    {
     "name": "stderr",
     "output_type": "stream",
     "text": [
      "                                                                                \r"
     ]
    }
   ],
   "source": [
    "print(w_df.select(\"city\",\"state\").distinct().count())"
   ]
  },
  {
   "cell_type": "code",
   "execution_count": 8,
   "id": "a09ea056-7e05-4baf-8edd-e19af43fcaf9",
   "metadata": {},
   "outputs": [
    {
     "name": "stderr",
     "output_type": "stream",
     "text": [
      "[Stage 10:=========================================>            (153 + 1) / 200]\r"
     ]
    },
    {
     "name": "stdout",
     "output_type": "stream",
     "text": [
      "1600\n"
     ]
    },
    {
     "name": "stderr",
     "output_type": "stream",
     "text": [
      "                                                                                \r"
     ]
    }
   ],
   "source": [
    "print(w_df.select(\"date\",\"city\",\"state\").distinct().count())"
   ]
  },
  {
   "cell_type": "code",
   "execution_count": 9,
   "id": "36bd0de1-0ad4-41d2-b62a-3f6e963eb967",
   "metadata": {},
   "outputs": [
    {
     "data": {
      "text/html": [
       "<div>\n",
       "<style scoped>\n",
       "    .dataframe tbody tr th:only-of-type {\n",
       "        vertical-align: middle;\n",
       "    }\n",
       "\n",
       "    .dataframe tbody tr th {\n",
       "        vertical-align: top;\n",
       "    }\n",
       "\n",
       "    .dataframe thead th {\n",
       "        text-align: right;\n",
       "    }\n",
       "</style>\n",
       "<table border=\"1\" class=\"dataframe\">\n",
       "  <thead>\n",
       "    <tr style=\"text-align: right;\">\n",
       "      <th></th>\n",
       "      <th>2020census</th>\n",
       "      <th>city</th>\n",
       "      <th>condition</th>\n",
       "      <th>date</th>\n",
       "      <th>description</th>\n",
       "      <th>dew_point</th>\n",
       "      <th>latitude</th>\n",
       "      <th>longitude</th>\n",
       "      <th>moon_phase</th>\n",
       "      <th>pct_clouds</th>\n",
       "      <th>...</th>\n",
       "      <th>temperature.eve</th>\n",
       "      <th>temperature.max</th>\n",
       "      <th>temperature.min</th>\n",
       "      <th>temperature.morn</th>\n",
       "      <th>temperature.night</th>\n",
       "      <th>timezone</th>\n",
       "      <th>uv_index</th>\n",
       "      <th>wind.direction_deg</th>\n",
       "      <th>wind.gust</th>\n",
       "      <th>wind.speed</th>\n",
       "    </tr>\n",
       "  </thead>\n",
       "  <tbody>\n",
       "    <tr>\n",
       "      <th>0</th>\n",
       "      <td>8804190</td>\n",
       "      <td>New York</td>\n",
       "      <td>Clear</td>\n",
       "      <td>2021-10-19</td>\n",
       "      <td>clear sky</td>\n",
       "      <td>35.20</td>\n",
       "      <td>40.712728</td>\n",
       "      <td>-74.006015</td>\n",
       "      <td>0.47</td>\n",
       "      <td>0</td>\n",
       "      <td>...</td>\n",
       "      <td>63.82</td>\n",
       "      <td>67.53</td>\n",
       "      <td>50.32</td>\n",
       "      <td>50.45</td>\n",
       "      <td>61.65</td>\n",
       "      <td>America/New_York</td>\n",
       "      <td>3.32</td>\n",
       "      <td>291</td>\n",
       "      <td>31.52</td>\n",
       "      <td>16.35</td>\n",
       "    </tr>\n",
       "    <tr>\n",
       "      <th>1</th>\n",
       "      <td>8804190</td>\n",
       "      <td>New York</td>\n",
       "      <td>Clouds</td>\n",
       "      <td>2021-10-20</td>\n",
       "      <td>scattered clouds</td>\n",
       "      <td>48.34</td>\n",
       "      <td>40.712728</td>\n",
       "      <td>-74.006015</td>\n",
       "      <td>0.50</td>\n",
       "      <td>27</td>\n",
       "      <td>...</td>\n",
       "      <td>71.89</td>\n",
       "      <td>75.00</td>\n",
       "      <td>58.55</td>\n",
       "      <td>58.68</td>\n",
       "      <td>65.25</td>\n",
       "      <td>America/New_York</td>\n",
       "      <td>3.49</td>\n",
       "      <td>289</td>\n",
       "      <td>31.52</td>\n",
       "      <td>12.68</td>\n",
       "    </tr>\n",
       "    <tr>\n",
       "      <th>2</th>\n",
       "      <td>8804190</td>\n",
       "      <td>New York</td>\n",
       "      <td>Clouds</td>\n",
       "      <td>2021-10-21</td>\n",
       "      <td>broken clouds</td>\n",
       "      <td>46.96</td>\n",
       "      <td>40.712728</td>\n",
       "      <td>-74.006015</td>\n",
       "      <td>0.53</td>\n",
       "      <td>84</td>\n",
       "      <td>...</td>\n",
       "      <td>71.71</td>\n",
       "      <td>74.16</td>\n",
       "      <td>60.12</td>\n",
       "      <td>60.48</td>\n",
       "      <td>67.21</td>\n",
       "      <td>America/New_York</td>\n",
       "      <td>3.32</td>\n",
       "      <td>208</td>\n",
       "      <td>33.58</td>\n",
       "      <td>13.00</td>\n",
       "    </tr>\n",
       "    <tr>\n",
       "      <th>3</th>\n",
       "      <td>8804190</td>\n",
       "      <td>New York</td>\n",
       "      <td>Clouds</td>\n",
       "      <td>2021-10-22</td>\n",
       "      <td>scattered clouds</td>\n",
       "      <td>47.93</td>\n",
       "      <td>40.712728</td>\n",
       "      <td>-74.006015</td>\n",
       "      <td>0.56</td>\n",
       "      <td>27</td>\n",
       "      <td>...</td>\n",
       "      <td>65.68</td>\n",
       "      <td>68.20</td>\n",
       "      <td>59.32</td>\n",
       "      <td>62.19</td>\n",
       "      <td>59.32</td>\n",
       "      <td>America/New_York</td>\n",
       "      <td>2.44</td>\n",
       "      <td>220</td>\n",
       "      <td>34.05</td>\n",
       "      <td>14.05</td>\n",
       "    </tr>\n",
       "    <tr>\n",
       "      <th>4</th>\n",
       "      <td>8804190</td>\n",
       "      <td>New York</td>\n",
       "      <td>Rain</td>\n",
       "      <td>2021-10-23</td>\n",
       "      <td>light rain</td>\n",
       "      <td>37.71</td>\n",
       "      <td>40.712728</td>\n",
       "      <td>-74.006015</td>\n",
       "      <td>0.59</td>\n",
       "      <td>51</td>\n",
       "      <td>...</td>\n",
       "      <td>59.22</td>\n",
       "      <td>61.30</td>\n",
       "      <td>53.04</td>\n",
       "      <td>57.63</td>\n",
       "      <td>53.04</td>\n",
       "      <td>America/New_York</td>\n",
       "      <td>1.68</td>\n",
       "      <td>315</td>\n",
       "      <td>16.49</td>\n",
       "      <td>11.16</td>\n",
       "    </tr>\n",
       "    <tr>\n",
       "      <th>...</th>\n",
       "      <td>...</td>\n",
       "      <td>...</td>\n",
       "      <td>...</td>\n",
       "      <td>...</td>\n",
       "      <td>...</td>\n",
       "      <td>...</td>\n",
       "      <td>...</td>\n",
       "      <td>...</td>\n",
       "      <td>...</td>\n",
       "      <td>...</td>\n",
       "      <td>...</td>\n",
       "      <td>...</td>\n",
       "      <td>...</td>\n",
       "      <td>...</td>\n",
       "      <td>...</td>\n",
       "      <td>...</td>\n",
       "      <td>...</td>\n",
       "      <td>...</td>\n",
       "      <td>...</td>\n",
       "      <td>...</td>\n",
       "      <td>...</td>\n",
       "    </tr>\n",
       "    <tr>\n",
       "      <th>1595</th>\n",
       "      <td>138486</td>\n",
       "      <td>Waco</td>\n",
       "      <td>Rain</td>\n",
       "      <td>2021-10-22</td>\n",
       "      <td>light rain</td>\n",
       "      <td>64.78</td>\n",
       "      <td>31.549333</td>\n",
       "      <td>-97.146670</td>\n",
       "      <td>0.56</td>\n",
       "      <td>19</td>\n",
       "      <td>...</td>\n",
       "      <td>77.79</td>\n",
       "      <td>85.93</td>\n",
       "      <td>67.26</td>\n",
       "      <td>67.26</td>\n",
       "      <td>73.90</td>\n",
       "      <td>America/Chicago</td>\n",
       "      <td>5.15</td>\n",
       "      <td>177</td>\n",
       "      <td>13.33</td>\n",
       "      <td>8.79</td>\n",
       "    </tr>\n",
       "    <tr>\n",
       "      <th>1596</th>\n",
       "      <td>138486</td>\n",
       "      <td>Waco</td>\n",
       "      <td>Rain</td>\n",
       "      <td>2021-10-23</td>\n",
       "      <td>light rain</td>\n",
       "      <td>64.81</td>\n",
       "      <td>31.549333</td>\n",
       "      <td>-97.146670</td>\n",
       "      <td>0.59</td>\n",
       "      <td>16</td>\n",
       "      <td>...</td>\n",
       "      <td>80.04</td>\n",
       "      <td>87.42</td>\n",
       "      <td>67.32</td>\n",
       "      <td>67.32</td>\n",
       "      <td>73.94</td>\n",
       "      <td>America/Chicago</td>\n",
       "      <td>5.27</td>\n",
       "      <td>165</td>\n",
       "      <td>27.96</td>\n",
       "      <td>13.82</td>\n",
       "    </tr>\n",
       "    <tr>\n",
       "      <th>1597</th>\n",
       "      <td>138486</td>\n",
       "      <td>Waco</td>\n",
       "      <td>Rain</td>\n",
       "      <td>2021-10-24</td>\n",
       "      <td>light rain</td>\n",
       "      <td>69.13</td>\n",
       "      <td>31.549333</td>\n",
       "      <td>-97.146670</td>\n",
       "      <td>0.62</td>\n",
       "      <td>100</td>\n",
       "      <td>...</td>\n",
       "      <td>79.72</td>\n",
       "      <td>83.14</td>\n",
       "      <td>69.98</td>\n",
       "      <td>70.52</td>\n",
       "      <td>75.67</td>\n",
       "      <td>America/Chicago</td>\n",
       "      <td>6.00</td>\n",
       "      <td>174</td>\n",
       "      <td>30.53</td>\n",
       "      <td>14.94</td>\n",
       "    </tr>\n",
       "    <tr>\n",
       "      <th>1598</th>\n",
       "      <td>138486</td>\n",
       "      <td>Waco</td>\n",
       "      <td>Clouds</td>\n",
       "      <td>2021-10-25</td>\n",
       "      <td>overcast clouds</td>\n",
       "      <td>69.85</td>\n",
       "      <td>31.549333</td>\n",
       "      <td>-97.146670</td>\n",
       "      <td>0.65</td>\n",
       "      <td>100</td>\n",
       "      <td>...</td>\n",
       "      <td>80.98</td>\n",
       "      <td>84.54</td>\n",
       "      <td>71.67</td>\n",
       "      <td>73.76</td>\n",
       "      <td>78.26</td>\n",
       "      <td>America/Chicago</td>\n",
       "      <td>6.00</td>\n",
       "      <td>182</td>\n",
       "      <td>30.87</td>\n",
       "      <td>17.67</td>\n",
       "    </tr>\n",
       "    <tr>\n",
       "      <th>1599</th>\n",
       "      <td>138486</td>\n",
       "      <td>Waco</td>\n",
       "      <td>Rain</td>\n",
       "      <td>2021-10-26</td>\n",
       "      <td>moderate rain</td>\n",
       "      <td>71.78</td>\n",
       "      <td>31.549333</td>\n",
       "      <td>-97.146670</td>\n",
       "      <td>0.68</td>\n",
       "      <td>100</td>\n",
       "      <td>...</td>\n",
       "      <td>76.21</td>\n",
       "      <td>77.77</td>\n",
       "      <td>71.40</td>\n",
       "      <td>71.40</td>\n",
       "      <td>74.71</td>\n",
       "      <td>America/Chicago</td>\n",
       "      <td>6.00</td>\n",
       "      <td>177</td>\n",
       "      <td>34.27</td>\n",
       "      <td>18.66</td>\n",
       "    </tr>\n",
       "  </tbody>\n",
       "</table>\n",
       "<p>1600 rows × 26 columns</p>\n",
       "</div>"
      ],
      "text/plain": [
       "      2020census      city condition        date       description  dew_point  \\\n",
       "0        8804190  New York     Clear  2021-10-19         clear sky      35.20   \n",
       "1        8804190  New York    Clouds  2021-10-20  scattered clouds      48.34   \n",
       "2        8804190  New York    Clouds  2021-10-21     broken clouds      46.96   \n",
       "3        8804190  New York    Clouds  2021-10-22  scattered clouds      47.93   \n",
       "4        8804190  New York      Rain  2021-10-23        light rain      37.71   \n",
       "...          ...       ...       ...         ...               ...        ...   \n",
       "1595      138486      Waco      Rain  2021-10-22        light rain      64.78   \n",
       "1596      138486      Waco      Rain  2021-10-23        light rain      64.81   \n",
       "1597      138486      Waco      Rain  2021-10-24        light rain      69.13   \n",
       "1598      138486      Waco    Clouds  2021-10-25   overcast clouds      69.85   \n",
       "1599      138486      Waco      Rain  2021-10-26     moderate rain      71.78   \n",
       "\n",
       "       latitude  longitude  moon_phase  pct_clouds  ...  temperature.eve  \\\n",
       "0     40.712728 -74.006015        0.47           0  ...            63.82   \n",
       "1     40.712728 -74.006015        0.50          27  ...            71.89   \n",
       "2     40.712728 -74.006015        0.53          84  ...            71.71   \n",
       "3     40.712728 -74.006015        0.56          27  ...            65.68   \n",
       "4     40.712728 -74.006015        0.59          51  ...            59.22   \n",
       "...         ...        ...         ...         ...  ...              ...   \n",
       "1595  31.549333 -97.146670        0.56          19  ...            77.79   \n",
       "1596  31.549333 -97.146670        0.59          16  ...            80.04   \n",
       "1597  31.549333 -97.146670        0.62         100  ...            79.72   \n",
       "1598  31.549333 -97.146670        0.65         100  ...            80.98   \n",
       "1599  31.549333 -97.146670        0.68         100  ...            76.21   \n",
       "\n",
       "      temperature.max  temperature.min  temperature.morn temperature.night  \\\n",
       "0               67.53            50.32             50.45             61.65   \n",
       "1               75.00            58.55             58.68             65.25   \n",
       "2               74.16            60.12             60.48             67.21   \n",
       "3               68.20            59.32             62.19             59.32   \n",
       "4               61.30            53.04             57.63             53.04   \n",
       "...               ...              ...               ...               ...   \n",
       "1595            85.93            67.26             67.26             73.90   \n",
       "1596            87.42            67.32             67.32             73.94   \n",
       "1597            83.14            69.98             70.52             75.67   \n",
       "1598            84.54            71.67             73.76             78.26   \n",
       "1599            77.77            71.40             71.40             74.71   \n",
       "\n",
       "              timezone  uv_index  wind.direction_deg  wind.gust  wind.speed  \n",
       "0     America/New_York      3.32                 291      31.52       16.35  \n",
       "1     America/New_York      3.49                 289      31.52       12.68  \n",
       "2     America/New_York      3.32                 208      33.58       13.00  \n",
       "3     America/New_York      2.44                 220      34.05       14.05  \n",
       "4     America/New_York      1.68                 315      16.49       11.16  \n",
       "...                ...       ...                 ...        ...         ...  \n",
       "1595   America/Chicago      5.15                 177      13.33        8.79  \n",
       "1596   America/Chicago      5.27                 165      27.96       13.82  \n",
       "1597   America/Chicago      6.00                 174      30.53       14.94  \n",
       "1598   America/Chicago      6.00                 182      30.87       17.67  \n",
       "1599   America/Chicago      6.00                 177      34.27       18.66  \n",
       "\n",
       "[1600 rows x 26 columns]"
      ]
     },
     "execution_count": 9,
     "metadata": {},
     "output_type": "execute_result"
    }
   ],
   "source": [
    "w_df.toPandas()"
   ]
  },
  {
   "cell_type": "code",
   "execution_count": 10,
   "id": "9f79e65f-ef4b-49a7-adde-fa2f125d738e",
   "metadata": {},
   "outputs": [],
   "source": [
    "!pip install -q cassandra-driver\n"
   ]
  },
  {
   "cell_type": "code",
   "execution_count": 29,
   "id": "08bcb2fd-c03e-4988-a81d-81e6265bb7e0",
   "metadata": {},
   "outputs": [],
   "source": [
    "query = '''\n",
    "create table if not exists glab.weather_date(\n",
    "census2020 int,\n",
    "city text,\n",
    "condition text,\n",
    "weatherdate date,\n",
    "description text,\n",
    "dew_point decimal,\n",
    "latitude decimal,\n",
    "longitude decimal,\n",
    "moon_phase decimal,\n",
    "pct_clouds int,\n",
    "pct_humidity int,\n",
    "pressure int,\n",
    "rainfall decimal,\n",
    "snowfall decimal,\n",
    "state text,\n",
    "temperature_day decimal,\n",
    "temperature_eve decimal,\n",
    "temperature_max decimal,\n",
    "temperature_min decimal,\n",
    "temperature_morn decimal,\n",
    "temperature_night decimal,\n",
    "timezone text,\n",
    "uv_index decimal,\n",
    "wind_direction_deg int,\n",
    "wind_gust decimal,\n",
    "wind_speed decimal,\n",
    "primary key(weatherdate,state,city)\n",
    ");\n",
    "'''\n",
    "from cassandra.cluster import Cluster\n",
    "with Cluster([cassandra_host]) as cluster:\n",
    "    session = cluster.connect()\n",
    "    session.execute(query)"
   ]
  },
  {
   "cell_type": "code",
   "execution_count": 20,
   "id": "a7e77ed7-406c-4379-9e98-880157f8b503",
   "metadata": {},
   "outputs": [],
   "source": [
    "weather = w_df.toDF(\"census2020\",\n",
    "\"city\",\n",
    "\"condition\",\n",
    "\"weatherdate\",\n",
    "\"description\",\n",
    "\"dew_point\" ,\n",
    "\"latitude\",\n",
    "\"longitude\",\n",
    "\"moon_phase\",\n",
    "\"pct_clouds\",\n",
    "\"pct_humidity\",\n",
    "\"pressure\",\n",
    "\"rainfall\",\n",
    "\"snowfall\",\n",
    "\"state\",\n",
    "\"temperature_day\",\n",
    "\"temperature_eve\",\n",
    "\"temperature_max\",\n",
    "\"temperature_min\",\n",
    "\"temperature_morn\",\n",
    "\"temperature_night\",\n",
    "\"timezone\",\n",
    "\"uv_index\",\n",
    "\"wind_direction_deg\",\n",
    "\"wind_gust\",\n",
    "\"wind_speed\")"
   ]
  },
  {
   "cell_type": "code",
   "execution_count": 30,
   "id": "6d54cab7-0eae-4b8f-8528-c2db940713fe",
   "metadata": {},
   "outputs": [],
   "source": [
    "weather.write.format(\"org.apache.spark.sql.cassandra\")\\\n",
    ".mode(\"Append\")\\\n",
    ".option(\"table\",\"weather_date\")\\\n",
    ".option(\"keyspace\",\"glab\")\\\n",
    ".save()"
   ]
  },
  {
   "cell_type": "code",
   "execution_count": 32,
   "id": "08468d39-a51e-474f-bf5a-7db2f7fa069f",
   "metadata": {},
   "outputs": [
    {
     "data": {
      "text/plain": [
       "1600"
      ]
     },
     "execution_count": 32,
     "metadata": {},
     "output_type": "execute_result"
    }
   ],
   "source": [
    "weather2 = spark.read.format(\"org.apache.spark.sql.cassandra\")\\\n",
    ".option(\"table\",\"weather_date\")\\\n",
    ".option(\"keyspace\",\"glab\")\\\n",
    ".load()\n",
    "\n",
    "weather2.count()"
   ]
  },
  {
   "cell_type": "code",
   "execution_count": 33,
   "id": "bcea2079-6e76-4a9d-b2c9-c1f55f2d7cbd",
   "metadata": {},
   "outputs": [],
   "source": [
    "weather2.createOrReplaceTempView(\"weather_dt\")"
   ]
  },
  {
   "cell_type": "code",
   "execution_count": 34,
   "id": "266b2d73-0f5e-4109-bef3-f9db71669ad1",
   "metadata": {},
   "outputs": [
    {
     "name": "stdout",
     "output_type": "stream",
     "text": [
      "== Physical Plan ==\n",
      "*(1) Project [city#306, state#305, weatherdate#307, condition#309, description#310, temperature_day#320]\n",
      "+- BatchScan[state#305, city#306, weatherdate#307, condition#309, description#310, temperature_day#320] Cassandra Scan: glab.daily_city_weather\n",
      " - Cassandra Filters: [[\"state\" = ?, New York],[\"city\" = ?, \n",
      "Syracuse]]\n",
      " - Requested Columns: [state,city,weatherdate,condition,description,temperature_day]\n",
      "\n",
      "\n"
     ]
    }
   ],
   "source": [
    "query = '''\n",
    "select city, state,weatherdate,condition,description, temperature_day from daily_city_weather where city = '\n",
    "Syracuse' and state = 'New York'\n",
    "'''\n",
    "spark.sql(query).explain()"
   ]
  },
  {
   "cell_type": "code",
   "execution_count": 35,
   "id": "385d8625-ddb3-4756-88cf-902f0faf0e44",
   "metadata": {},
   "outputs": [
    {
     "name": "stdout",
     "output_type": "stream",
     "text": [
      "== Physical Plan ==\n",
      "*(1) Project [city#306, state#305, weatherdate#307, condition#309, description#310, temperature_day#320]\n",
      "+- *(1) Filter (condition#309 = Rain)\n",
      "   +- BatchScan[state#305, city#306, weatherdate#307, condition#309, description#310, temperature_day#320] Cassandra Scan: glab.daily_city_weather\n",
      " - Cassandra Filters: [[\"weatherdate\" = ?, 2021-10-23]]\n",
      " - Requested Columns: [state,city,weatherdate,condition,description,temperature_day]\n",
      "\n",
      "\n"
     ]
    }
   ],
   "source": [
    "#Qn9 \n",
    "\n",
    "query = '''\n",
    "select city, state,weatherdate,condition,description, temperature_day from daily_city_weather\n",
    "where condition = 'Rain' and weatherdate = '2021-10-23'\n",
    "'''\n",
    "\n",
    "spark.sql(query).explain()"
   ]
  },
  {
   "cell_type": "code",
   "execution_count": null,
   "id": "25d820d4-ed40-4256-8849-b5e91b64bdf8",
   "metadata": {},
   "outputs": [],
   "source": []
  }
 ],
 "metadata": {
  "kernelspec": {
   "display_name": "Python 3 (ipykernel)",
   "language": "python",
   "name": "python3"
  },
  "language_info": {
   "codemirror_mode": {
    "name": "ipython",
    "version": 3
   },
   "file_extension": ".py",
   "mimetype": "text/x-python",
   "name": "python",
   "nbconvert_exporter": "python",
   "pygments_lexer": "ipython3",
   "version": "3.9.6"
  }
 },
 "nbformat": 4,
 "nbformat_minor": 5
}
