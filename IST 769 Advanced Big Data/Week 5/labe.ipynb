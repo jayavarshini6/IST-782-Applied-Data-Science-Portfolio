{
 "cells": [
  {
   "cell_type": "code",
   "execution_count": 2,
   "id": "ac33fcd5-a3d8-49d6-b00c-7f497514e17c",
   "metadata": {},
   "outputs": [],
   "source": [
    "import pyspark\n",
    "from pyspark.sql import SparkSession\n",
    "\n",
    "bucket = \"e-drill\"\n",
    "\n",
    "spark = SparkSession.builder \\\n",
    "    .master(\"local\") \\\n",
    "    .appName('jupyter-pyspark') \\\n",
    "        .config(\"spark.jars.packages\",\"org.apache.hadoop:hadoop-aws:3.1.2\")\\\n",
    "        .config(\"spark.hadoop.fs.s3a.endpoint\", \"http://minio:9000\") \\\n",
    "        .config(\"spark.hadoop.fs.s3a.access.key\", \"minio\") \\\n",
    "        .config(\"spark.hadoop.fs.s3a.secret.key\", \"SU2orange!\") \\\n",
    "        .config(\"spark.hadoop.fs.s3a.fast.upload\", True) \\\n",
    "        .config(\"spark.hadoop.fs.s3a.path.style.access\", True) \\\n",
    "        .config(\"spark.hadoop.fs.s3a.impl\", \"org.apache.hadoop.fs.s3a.S3AFileSystem\") \\\n",
    "    .getOrCreate()\n",
    "sc = spark.sparkContext\n",
    "sc.setLogLevel(\"ERROR\") # Keeps the noise down!!!"
   ]
  },
  {
   "cell_type": "code",
   "execution_count": 15,
   "id": "3ce44eb6-adb7-477e-aa1d-e7a262a8f7a4",
   "metadata": {},
   "outputs": [
    {
     "name": "stdout",
     "output_type": "stream",
     "text": [
      "root\n",
      " |-- EST: string (nullable = true)\n",
      " |-- Max TemperatureF: integer (nullable = true)\n",
      " |-- Mean TemperatureF: integer (nullable = true)\n",
      " |-- Min TemperatureF: integer (nullable = true)\n",
      " |-- Max Dew PointF: integer (nullable = true)\n",
      " |-- MeanDew PointF: integer (nullable = true)\n",
      " |-- Min DewpointF: integer (nullable = true)\n",
      " |-- Max Humidity: integer (nullable = true)\n",
      " |-- Mean Humidity: integer (nullable = true)\n",
      " |-- Min Humidity: integer (nullable = true)\n",
      " |-- Max Sea Level PressureIn: double (nullable = true)\n",
      " |-- Mean Sea Level PressureIn: double (nullable = true)\n",
      " |-- Min Sea Level PressureIn: double (nullable = true)\n",
      " |-- Max VisibilityMiles: integer (nullable = true)\n",
      " |-- Mean VisibilityMiles: integer (nullable = true)\n",
      " |-- Min VisibilityMiles: integer (nullable = true)\n",
      " |-- Max Wind SpeedMPH: integer (nullable = true)\n",
      " |-- Mean Wind SpeedMPH: integer (nullable = true)\n",
      " |-- Max Gust SpeedMPH: integer (nullable = true)\n",
      " |-- PrecipitationIn: string (nullable = true)\n",
      " |-- CloudCover: integer (nullable = true)\n",
      " |-- Events: string (nullable = true)\n",
      " |-- WindDirDegrees: integer (nullable = true)\n",
      "\n"
     ]
    }
   ],
   "source": [
    "spark.read.option(\"header\",True)\\\n",
    "    .option(\"inferSchema\",True)\\\n",
    "    .csv(\"s3a://labe/syracuse-ny.csv\")\\\n",
    "    .createOrReplaceTempView(\"weather\")\n",
    "spark.sql(\"select * from weather\").printSchema()"
   ]
  },
  {
   "cell_type": "code",
   "execution_count": 13,
   "id": "81f6e6be-20fc-4c11-b341-d8081692b1b0",
   "metadata": {},
   "outputs": [
    {
     "name": "stderr",
     "output_type": "stream",
     "text": [
      "[Stage 12:===================================================>  (190 + 1) / 200]\r"
     ]
    },
    {
     "name": "stdout",
     "output_type": "stream",
     "text": [
      "+----+-----+------------------+------------------+\n",
      "|year|month|            avgmin|            avgmax|\n",
      "+----+-----+------------------+------------------+\n",
      "|1997|    1|15.774193548387096| 31.64516129032258|\n",
      "|1997|    2|22.607142857142858|37.785714285714285|\n",
      "|1997|    3|25.032258064516128| 41.12903225806452|\n",
      "|1997|    4| 34.43333333333333|              54.1|\n",
      "|1997|    5|43.096774193548384| 61.58064516129032|\n",
      "|1997|    6|              57.8|              78.4|\n",
      "|1997|    7| 59.87096774193548| 80.19354838709677|\n",
      "|1997|    8| 58.70967741935484| 78.38709677419355|\n",
      "|1997|    9| 51.06666666666667|              69.4|\n",
      "|1997|   10|38.935483870967744| 59.16129032258065|\n",
      "|1997|   11|31.466666666666665|42.666666666666664|\n",
      "|1997|   12|25.032258064516128|35.516129032258064|\n",
      "|1998|    1|23.258064516129032| 35.41935483870968|\n",
      "|1998|    2|24.142857142857142|              38.0|\n",
      "|1998|    3|30.129032258064516|45.064516129032256|\n",
      "|1998|    4|              38.0| 58.46666666666667|\n",
      "|1998|    5| 52.45161290322581|  73.6774193548387|\n",
      "|1998|    6|57.333333333333336|              75.3|\n",
      "|1998|    7| 61.29032258064516| 79.03225806451613|\n",
      "|1998|    8|              61.0| 81.09677419354838|\n",
      "+----+-----+------------------+------------------+\n",
      "only showing top 20 rows\n",
      "\n"
     ]
    },
    {
     "name": "stderr",
     "output_type": "stream",
     "text": [
      "                                                                                \r"
     ]
    }
   ],
   "source": [
    "query = '''\n",
    "with source as(\n",
    "    select \n",
    "    cast(split(EST,'-')[0] as int) as year,\n",
    "    cast(split(EST,'-')[1] as int)as month,\n",
    "    `Min TemperatureF` as mintemp,\n",
    "    `Max TemperatureF` as maxtemp\n",
    "    from weather\n",
    "    )\n",
    "select \n",
    "    year, month, avg(mintemp) as avgmin, \n",
    "    avg(maxtemp) as avgmax\n",
    "    from source\n",
    "    group by year, month\n",
    "    order by year, month\n",
    "'''\n",
    "spark.sql(query).show()"
   ]
  },
  {
   "cell_type": "code",
   "execution_count": 20,
   "id": "5b78f846-8443-4dde-9cbf-579a7f9c79e2",
   "metadata": {},
   "outputs": [
    {
     "name": "stderr",
     "output_type": "stream",
     "text": [
      "[Stage 21:=============================================>        (168 + 1) / 200]\r"
     ]
    },
    {
     "name": "stdout",
     "output_type": "stream",
     "text": [
      "+----+-----+------------------+-----------------+\n",
      "|year|month|            avgmin|           avgmax|\n",
      "+----+-----+------------------+-----------------+\n",
      "|1997|    7| 59.87096774193548|80.19354838709677|\n",
      "|1998|    7| 61.29032258064516|79.03225806451613|\n",
      "|1999|    7|  64.3225806451613|85.74193548387096|\n",
      "|2000|    7|57.774193548387096|76.51612903225806|\n",
      "|2001|    7|              59.0|79.87096774193549|\n",
      "|2002|    7| 63.61290322580645|84.16129032258064|\n",
      "|2003|    7|61.483870967741936|81.29032258064517|\n",
      "|2004|    7|60.903225806451616|78.16129032258064|\n",
      "|2005|    7| 64.19354838709677|85.12903225806451|\n",
      "|2006|    7|              65.0|83.12903225806451|\n",
      "|2007|    7|59.483870967741936|80.19354838709677|\n",
      "|2008|    7| 61.41935483870968|81.19354838709677|\n",
      "|2009|    7|58.935483870967744|77.45161290322581|\n",
      "|2010|    7| 64.38709677419355|84.64516129032258|\n",
      "|2011|    7| 64.64516129032258|86.93548387096774|\n",
      "|2012|    7| 64.54838709677419|87.90322580645162|\n",
      "|2013|    7| 65.06451612903226|83.83870967741936|\n",
      "|2014|    7| 61.32258064516129|81.48387096774194|\n",
      "|2015|    7|60.806451612903224|81.16129032258064|\n",
      "+----+-----+------------------+-----------------+\n",
      "\n"
     ]
    },
    {
     "name": "stderr",
     "output_type": "stream",
     "text": [
      "                                                                                \r"
     ]
    }
   ],
   "source": [
    "query = '''\n",
    "with source as(\n",
    "    select \n",
    "    cast(split(EST,'-')[0] as int) as year,\n",
    "    cast(split(EST,'-')[1] as int)as month,\n",
    "    `Min TemperatureF` as mintemp,\n",
    "    `Max TemperatureF` as maxtemp\n",
    "    from weather\n",
    "    )\n",
    "select \n",
    "    year, month, avg(mintemp) as avgmin, \n",
    "    avg(maxtemp) as avgmax\n",
    "    from source\n",
    "    group by year, month\n",
    "    order by year, month\n",
    "'''\n",
    "spark.sql(query).createOrReplaceTempView(\"monthly_syracuse_weather_averages\")\n",
    "spark.sql(f\"select * from monthly_syracuse_weather_averages where month =7\").show()"
   ]
  },
  {
   "cell_type": "code",
   "execution_count": 18,
   "id": "2058665c-00e9-4af9-a5e9-7cd5d321bf0a",
   "metadata": {},
   "outputs": [
    {
     "name": "stdin",
     "output_type": "stream",
     "text": [
      "Enter Month: 9\n"
     ]
    },
    {
     "name": "stderr",
     "output_type": "stream",
     "text": [
      "[Stage 19:============================================>         (165 + 1) / 200]\r"
     ]
    },
    {
     "name": "stdout",
     "output_type": "stream",
     "text": [
      "+----+-----+------------------+-----------------+\n",
      "|year|month|            avgmin|           avgmax|\n",
      "+----+-----+------------------+-----------------+\n",
      "|1997|    9| 51.06666666666667|             69.4|\n",
      "|1998|    9|              54.4|             73.8|\n",
      "|1999|    9|              54.8|75.76666666666667|\n",
      "|2000|    9| 50.43333333333333|             71.2|\n",
      "|2001|    9|52.166666666666664|             73.0|\n",
      "|2002|    9| 56.06666666666667|             78.2|\n",
      "|2003|    9|              53.6|             73.0|\n",
      "|2004|    9| 55.43333333333333|74.96666666666667|\n",
      "|2005|    9|              54.5|76.36666666666666|\n",
      "|2006|    9|              52.0|             69.5|\n",
      "|2007|    9|              53.8|76.86666666666666|\n",
      "|2008|    9| 52.53333333333333|72.83333333333333|\n",
      "|2009|    9|50.833333333333336|             71.8|\n",
      "|2010|    9|53.766666666666666|             72.4|\n",
      "|2011|    9|56.766666666666666|             75.5|\n",
      "|2012|    9|52.733333333333334|74.53333333333333|\n",
      "|2013|    9|              50.2|72.36666666666666|\n",
      "|2014|    9| 52.53333333333333|75.06666666666666|\n",
      "|2015|    9|              57.3|79.63333333333334|\n",
      "+----+-----+------------------+-----------------+\n",
      "\n"
     ]
    },
    {
     "name": "stderr",
     "output_type": "stream",
     "text": [
      "                                                                                \r"
     ]
    }
   ],
   "source": [
    "month = input(\"Enter Month:\")\n",
    "spark.sql(f\"select * from monthly_syracuse_weather_averages where month = {month}\").show()"
   ]
  },
  {
   "cell_type": "code",
   "execution_count": 26,
   "id": "8e61afe7-2660-4c25-95e0-8d1e1d336217",
   "metadata": {},
   "outputs": [
    {
     "data": {
      "text/html": [
       "<h1>Pick a Month<h1>"
      ],
      "text/plain": [
       "<IPython.core.display.HTML object>"
      ]
     },
     "metadata": {},
     "output_type": "display_data"
    },
    {
     "data": {
      "application/vnd.jupyter.widget-view+json": {
       "model_id": "4ccee6cd73d54fcbbc126bcb68674c34",
       "version_major": 2,
       "version_minor": 0
      },
      "text/plain": [
       "interactive(children=(IntSlider(value=6, description='Month', max=12, min=1), Button(description='Run Interact…"
      ]
     },
     "metadata": {},
     "output_type": "display_data"
    }
   ],
   "source": [
    "from IPython.display import display,HTML\n",
    "from ipywidgets import interact_manual\n",
    "display(HTML(\"<h1>Pick a Month<h1>\"))\n",
    "@interact_manual(Month=(1,12))\n",
    "def doit(Month):\n",
    "    print(f\"You selected: {Month}\")"
   ]
  },
  {
   "cell_type": "code",
   "execution_count": 30,
   "id": "623501d9-d85a-4bbd-90c6-96a0243c77a8",
   "metadata": {},
   "outputs": [
    {
     "data": {
      "text/html": [
       "<h1>Syracuse Weather<h1>"
      ],
      "text/plain": [
       "<IPython.core.display.HTML object>"
      ]
     },
     "metadata": {},
     "output_type": "display_data"
    },
    {
     "data": {
      "application/vnd.jupyter.widget-view+json": {
       "model_id": "08f5ea80863a4adea058fc209359ed93",
       "version_major": 2,
       "version_minor": 0
      },
      "text/plain": [
       "interactive(children=(IntSlider(value=6, description='Month', max=12, min=1), Button(description='Run Interact…"
      ]
     },
     "metadata": {},
     "output_type": "display_data"
    }
   ],
   "source": [
    "from IPython.display import display,HTML\n",
    "from ipywidgets import interact_manual\n",
    "import matplotlib.pyplot as plt\n",
    "display(HTML(\"<h1>Syracuse Weather<h1>\"))\n",
    "@interact_manual(Month=(1,12))\n",
    "def doit(Month):\n",
    "    df = spark.sql(f\"select * from monthly_syracuse_weather_averages where month = {Month}\").toPandas()\n",
    "    display(df)\n",
    "    df.set_index(\"year\")\n",
    "    plt.scatter(df[\"year\"], y = df[\"avgmin\"], label = 'monthly avg min')\n",
    "    plt.scatter(df[\"year\"], y = df[\"avgmax\"],label = 'monthly avg max')\n",
    "    plt.legend(title =f\"Temps for Month {Month}\")\n",
    "    plt.show()\n",
    "    "
   ]
  },
  {
   "cell_type": "code",
   "execution_count": null,
   "id": "9a9ddf3e-bee4-44d8-bb03-0c92735123cf",
   "metadata": {},
   "outputs": [],
   "source": []
  }
 ],
 "metadata": {
  "kernelspec": {
   "display_name": "Python 3 (ipykernel)",
   "language": "python",
   "name": "python3"
  },
  "language_info": {
   "codemirror_mode": {
    "name": "ipython",
    "version": 3
   },
   "file_extension": ".py",
   "mimetype": "text/x-python",
   "name": "python",
   "nbconvert_exporter": "python",
   "pygments_lexer": "ipython3",
   "version": "3.9.6"
  }
 },
 "nbformat": 4,
 "nbformat_minor": 5
}
